{
  "nbformat": 4,
  "nbformat_minor": 0,
  "metadata": {
    "colab": {
      "provenance": []
    },
    "kernelspec": {
      "name": "python3",
      "display_name": "Python 3"
    },
    "language_info": {
      "name": "python"
    }
  },
  "cells": [
    {
      "cell_type": "code",
      "source": [
        "from google.colab import drive\n",
        "drive.mount('/content/drive')"
      ],
      "metadata": {
        "colab": {
          "base_uri": "https://localhost:8080/"
        },
        "id": "02sICahMdOvu",
        "outputId": "bcf30cd1-8881-4ffa-c5ff-4a1cf8311947"
      },
      "execution_count": 398,
      "outputs": [
        {
          "output_type": "stream",
          "name": "stdout",
          "text": [
            "Drive already mounted at /content/drive; to attempt to forcibly remount, call drive.mount(\"/content/drive\", force_remount=True).\n"
          ]
        }
      ]
    },
    {
      "cell_type": "code",
      "source": [
        "import pandas as pd\n",
        "import numpy as np\n",
        "\n",
        "from sklearn.preprocessing import MinMaxScaler\n",
        "from sklearn.model_selection import train_test_split\n",
        "\n",
        "from sklearn.metrics import accuracy_score\n",
        "from sklearn.metrics import f1_score\n",
        "\n",
        "import math\n",
        "\n",
        "import matplotlib.pyplot as plt"
      ],
      "metadata": {
        "id": "jVgWHfBazBpa"
      },
      "execution_count": 399,
      "outputs": []
    },
    {
      "cell_type": "markdown",
      "source": [
        "# Part 1: Naïve Bayes Classification\n",
        "\n",
        "\n",
        "---\n",
        "**Instructions:**<br>\n",
        "You are given a training dataset in CSV format (hw5_naive.csv). The training data has\n",
        "5,600 rows:\n",
        "- Columns 1 through 6 of the given CSV file represent the features (X)\n",
        "- The last column (“Label”) represents the class label (Y) (0 or 1)\n",
        "\n"
      ],
      "metadata": {
        "id": "yCbzITHccgIT"
      }
    },
    {
      "cell_type": "markdown",
      "source": [
        "**1.a:** Divide the data into train / test sets (80% and 20% respectively)"
      ],
      "metadata": {
        "id": "hJ3eBnEOcwru"
      }
    },
    {
      "cell_type": "code",
      "source": [
        "# Reading the data:\n",
        "naive_train_data = pd.read_csv('/content/drive/My Drive/Colab Notebooks/hw5_naive.csv')\n",
        "print(naive_train_data.head)\n",
        "\n",
        "# Defining x and y:\n",
        "y = naive_train_data['Label']  # y defines the \"target\"/labels\n",
        "x = naive_train_data[['Feature_1', 'Feature_2', 'Feature_3', 'Feature_4', 'Feature_5', 'Feature_6']]  # x defines the features\n",
        "\n",
        "# Following advice from TA -- extract Feature_3 and reshape for MinMaxScaler (to eliminate negative values)\n",
        "feature_3 = x['Feature_3'].values.reshape(-1, 1)\n",
        "\n",
        "# Initialize and apply MinMaxScaler to Feature_3\n",
        "scaler = MinMaxScaler(feature_range=(0, 1))\n",
        "scaled_feature_3 = scaler.fit_transform(feature_3)\n",
        "\n",
        "# Replace the original Feature_3 in the dataset with the scaled version\n",
        "x.loc[:, 'Feature_3'] = scaled_feature_3\n",
        "\n",
        "# Split into trains and tests:\n",
        "train_x,test_x,train_y,test_y = train_test_split(x,y,test_size=0.2, random_state=74380)"
      ],
      "metadata": {
        "id": "ab99wb30cu33",
        "colab": {
          "base_uri": "https://localhost:8080/"
        },
        "outputId": "87e09b06-f011-4a51-d022-a2e142d974d9"
      },
      "execution_count": 400,
      "outputs": [
        {
          "output_type": "stream",
          "name": "stdout",
          "text": [
            "<bound method NDFrame.head of       Feature_1  Feature_2  Feature_3  Feature_4  Feature_5  Feature_6  Label\n",
            "0       7430.14    9529.78   -2453.33         19        123        621      0\n",
            "1      11256.40   50455.10   -4220.00         18        216       2677      0\n",
            "2      13093.00   51897.10   -2880.00         30        234       2464      0\n",
            "3      14303.00  102632.00   -5702.20        144        281       4061      1\n",
            "4      14688.00   83343.40   -2430.00         52        223       2822      1\n",
            "...         ...        ...        ...        ...        ...        ...    ...\n",
            "5595   10424.80   35041.40   -4345.67        114        208       1691      0\n",
            "5596    5976.87   10806.00   -2662.00          3         98        654      1\n",
            "5597   15793.50  216990.00   -9819.00         44        338       8323      1\n",
            "5598    8787.16   20778.60   -3470.08         92        163       1162      0\n",
            "5599    8322.40   12208.90   -2592.59         83        128        693      0\n",
            "\n",
            "[5600 rows x 7 columns]>\n"
          ]
        }
      ]
    },
    {
      "cell_type": "markdown",
      "source": [
        "**1.b:** Implement a Multinomial Naïve Bayes classifier from scratch, with smoothing. You can set the default smoothing value to 1. You are free to code this up however you like, however, make sure that there is a function that can be called with a test X vector and returns the predicted Y.\n",
        "<br><br>\n",
        "**NOTES FROM LECTURE 11 SLIDES**:<br>\n",
        "-Naive Bayes states; P(C|X) = (P(X|C) * P(C)) / P(X)\n",
        "\n",
        "-Max a Posterior (MAP) Rule: (P(X|C) * P(C)) / P(X) ~= (P(X|C) * P(C)) --> C* = argmaxci(P(X1, . . . , Xn|Ci) * P(Ci))\n",
        "\n",
        "-Use log addition instead of multiplication to prevent floating point errors --> C* = argmaxci(n∑j=1(log(P(Xj|Ci)) + log(P(Ci))))\n",
        "\n",
        "-For notation purposes, P(Xj|Ci) = P(Xi = v|c)\n",
        "\n",
        "-Smoothing: P(Xi = v|c) = (Count(Xi = v & class = c) + 1) / (Count(class = c) + k)\n",
        "\n",
        "-From TA: Use medical table example in slides to see how to write the algorithm"
      ],
      "metadata": {
        "id": "nTKKFZSWh0v9"
      }
    },
    {
      "cell_type": "code",
      "source": [
        "# First define the function, fit, that trains by the model by assessing counts within the data -- return the learned parameters\n",
        "\n",
        "# Based of medical example from Lecture 11 slides:\n",
        "def multinomial_fit(train_x,train_y):\n",
        "  # Convert into numpy array for easier data analysis:\n",
        "  samples = np.array(train_x)\n",
        "  labels = np.array(train_y)\n",
        "\n",
        "  classes = np.unique(labels)  # Stores the class labels in an array\n",
        "  num_features = samples.shape[1]  # Indicates the number of features by counting the number of columns in the samples data\n",
        "\n",
        "  feature_value_counts_by_class = {}  # Stores counts for each unique feature value per class\n",
        "  priors = {}  # Stores the prior P(C) for each class\n",
        "\n",
        "  for curr_class in classes:\n",
        "    samples_by_class = samples[labels == curr_class]  # Array of rows where label only matches the current class\n",
        "    priors[curr_class] = len(samples_by_class) / len(samples)  # Prior P(C) = # rows of data for a class / total rows of data\n",
        "\n",
        "    # Create a nested dictionary for the current class to track individual feature values:\n",
        "    feature_value_counts_by_class[curr_class] = {}\n",
        "\n",
        "    # Find all unique values in each feature, and count occurances of each value for the current class:\n",
        "    for feature_index in range(num_features):\n",
        "      # features_by_class[:, feature_index] = of the rows where label only matches the current class, split into columns by their feature number (feature 1, feature 2, etc.)\n",
        "      feature_values, counts = np.unique(samples_by_class[:, feature_index], return_counts=True)\n",
        "      # Pair the unique values with their counts using zip\n",
        "      feature_value_counts_by_class[curr_class][feature_index] = dict(zip(feature_values, counts))\n",
        "\n",
        "  return classes, priors, feature_value_counts_by_class"
      ],
      "metadata": {
        "id": "E2tiPncgVGzl"
      },
      "execution_count": 401,
      "outputs": []
    },
    {
      "cell_type": "code",
      "source": [
        "# Now define the function, predict, which predicts class labels for the test data using the trained multinomial model from fit\n",
        "\n",
        "def multinomial_predict(test_x, classes, priors, feature_value_counts_by_class, alpha):\n",
        "  samples = np.array(test_x)\n",
        "\n",
        "  y_predictions = []\n",
        "  for sample in samples:\n",
        "    posteriors = []  # Will ultimately be an array of two values -- the two probabilities of class 0 or 1\n",
        "\n",
        "    # Store log probability (i.e. posterior) for each class\n",
        "    for curr_class in classes:\n",
        "      log_prior = np.log(priors[curr_class])\n",
        "      log_likelihood = 0\n",
        "\n",
        "      # Calculate total likelihood by adding likelihood of each feature value of each feature for a class\n",
        "      for feature_index, feature_value in enumerate(sample):  # For each value in each feature:\n",
        "        # Obtain the dictionary of individual values: count for each feature\n",
        "        feature_value_counts = feature_value_counts_by_class[curr_class].get(feature_index, {})  # Use .get if a class does not have a specific feature value/prevent error throw\n",
        "        count = feature_value_counts.get(feature_value, 0)\n",
        "        total_count = sum(feature_value_counts.values())  # Same as len(samples_by_class) from .fit, = number of rows of data for a class\n",
        "\n",
        "        # Likelihood formula with Laplace smoothing\n",
        "        log_likelihood += np.log((count + alpha) / (total_count + len(classes)))\n",
        "\n",
        "      posteriors.append(log_prior + log_likelihood)\n",
        "\n",
        "    better_class_index = np.argmax(posteriors)  # Find the index (0 or 1) of the higher probability\n",
        "    y_predictions.append(classes[better_class_index])\n",
        "\n",
        "  return y_predictions"
      ],
      "metadata": {
        "id": "f-CK1z4ybrfL"
      },
      "execution_count": 402,
      "outputs": []
    },
    {
      "cell_type": "code",
      "source": [
        "# Now test the model:\n",
        "\n",
        "alpha = 1  # Define smoothing factor (default = 1)\n",
        "\n",
        "# Fit the model to training data:\n",
        "classes, priors, feature_value_counts_by_class = multinomial_fit(train_x, train_y)\n",
        "\n",
        "# Predict on the test set:\n",
        "multinomial_predictions = multinomial_predict(test_x, classes, priors, feature_value_counts_by_class, alpha)\n",
        "\n",
        "# Evaluate the model using accuracy score\n",
        "multinomial_accuracy = accuracy_score(test_y, multinomial_predictions)\n",
        "multinomial_f1_macro = f1_score(test_y, multinomial_predictions, average='macro')"
      ],
      "metadata": {
        "id": "anvkerWvljBD"
      },
      "execution_count": 403,
      "outputs": []
    },
    {
      "cell_type": "markdown",
      "source": [
        "**1.c:** Implement a Gaussian Naïve Bayes classifier from scratch (no\n",
        "need for smoothing here).\n",
        "<br><br>\n",
        "**NOTES FROM LECTURE 11 SLIDES**:<br>\n",
        "-General implementation is the same as Multinomial, except now P(Xi = v|c) = 1/(2π(σc)^2) * e^−((v−μc)^2/(2(σc)^2))\n",
        "\n",
        "-Now as a result, fit is modified to calculate means and variances of features instead of counts of features"
      ],
      "metadata": {
        "id": "9oPjOqGpvKND"
      }
    },
    {
      "cell_type": "code",
      "source": [
        "# First define the function, fit, that trains by the model by assessing counts within the data -- return the learned parameters\n",
        "def gaussian_fit(train_x,train_y):\n",
        "\n",
        "  # Ensure conversion into numpy array to perform data analysis:\n",
        "  samples = np.array(train_x)\n",
        "  labels = np.array(train_y)\n",
        "\n",
        "  classes = np.unique(labels)  # Stores the class labels in an array\n",
        "  num_features = samples.shape[1]  # Indicates the number of features by counting the number of columns in the sample data\n",
        "\n",
        "  # Initialize dictionaries to store parameters:\n",
        "  means_by_class = {}\n",
        "  variances_by_class = {}\n",
        "  priors = {}\n",
        "\n",
        "  # Loop through each class (0,1) and calculate data statistics\n",
        "  for curr_class in classes:\n",
        "    samples_by_class = samples[labels == curr_class]  # Array of rows where label only matches the current class\n",
        "\n",
        "    # Calculate mean and variance for each feature:\n",
        "    means_by_class[curr_class] = np.mean(samples_by_class, axis=0)  # axis=0 means sum the columns only\n",
        "    variances_by_class[curr_class] = np.var(samples_by_class, axis=0)\n",
        "\n",
        "    # Calculate prior probabilities P(C):\n",
        "    priors[curr_class] = len(samples_by_class) / len(samples)\n",
        "\n",
        "  return classes, priors, means_by_class, variances_by_class"
      ],
      "metadata": {
        "id": "ip5sliuskxpT"
      },
      "execution_count": 404,
      "outputs": []
    },
    {
      "cell_type": "code",
      "source": [
        "# Now define the function, predict, which predicts class labels for the test data using the trained gaussian model from fit\n",
        "\n",
        "def gaussian_predict(test_x, classes, priors, means_by_class, variances_by_class):\n",
        "  samples = np.array(test_x)\n",
        "\n",
        "  y_predictions = []\n",
        "  for sample in samples:\n",
        "    posteriors = []  # Will ultimately be an array of two values -- the two probabilities of class 0 or 1\n",
        "\n",
        "    # Store log probability (i.e. posterior) for each class\n",
        "    for curr_class in classes:\n",
        "      log_prior = np.log(priors[curr_class])\n",
        "      log_likelihood = 0\n",
        "\n",
        "      # Calculate total likelihood by adding likelihood for each feature\n",
        "      for feature_index, feature_value in enumerate(sample):\n",
        "        feature_mean = means_by_class[curr_class][feature_index]\n",
        "        feature_variance = variances_by_class[curr_class][feature_index]\n",
        "\n",
        "        # Likelihood formula (Gaussian) -- in case variance is tiny, add a cap to prevent division by 0 error\n",
        "        log_likelihood += np.log(max((1 / math.sqrt(2*math.pi*(feature_variance**2))) * np.exp((-(feature_value - feature_mean)**2) / (2*(feature_variance**2))), 1e-6))  # P(Xi = v|c)\n",
        "\n",
        "      posteriors.append(log_prior + log_likelihood)\n",
        "\n",
        "    better_class_index = np.argmax(posteriors)  # Find the index (0 or 1) of the higher probability\n",
        "    y_predictions.append(classes[better_class_index])\n",
        "\n",
        "  return y_predictions"
      ],
      "metadata": {
        "id": "0lrCwgNNA9LG"
      },
      "execution_count": 405,
      "outputs": []
    },
    {
      "cell_type": "code",
      "source": [
        "# Now test the model:\n",
        "\n",
        "# Fit the model to training data:\n",
        "classes, priors, means_by_class, variances_by_class = gaussian_fit(train_x, train_y)\n",
        "\n",
        "# Predict on the test set:\n",
        "gaussian_predictions = gaussian_predict(test_x, classes, priors, means_by_class, variances_by_class)\n",
        "\n",
        "# Evaluate the model using accuracy score\n",
        "gaussian_accuracy = accuracy_score(test_y, gaussian_predictions)\n",
        "gaussian_f1_macro = f1_score(test_y, gaussian_predictions, average='macro')"
      ],
      "metadata": {
        "id": "kBSl8R1NFB1F"
      },
      "execution_count": 406,
      "outputs": []
    },
    {
      "cell_type": "markdown",
      "source": [
        "**1.d:** Calculate the accuracy and the F1 score of test data using both\n",
        "of your models implemented above."
      ],
      "metadata": {
        "id": "W2fJHKdvuab1"
      }
    },
    {
      "cell_type": "code",
      "source": [
        "print(\"Multinomial NB model (from scratch) accuracy: \", multinomial_accuracy)\n",
        "print(\"Multinomial NB model (from scratch) F1: \", multinomial_f1_macro)\n",
        "\n",
        "print(\"\\n\")\n",
        "\n",
        "print(\"Gaussian NB model (from scratch) accuracy: \", gaussian_accuracy)\n",
        "print(\"Gaussian NB model (from scratch) F1: \", gaussian_f1_macro)"
      ],
      "metadata": {
        "colab": {
          "base_uri": "https://localhost:8080/"
        },
        "id": "O7Pg-6QQuV3s",
        "outputId": "32fe7dc5-ddc7-4c57-9c8b-1b17453a6b92"
      },
      "execution_count": 407,
      "outputs": [
        {
          "output_type": "stream",
          "name": "stdout",
          "text": [
            "Multinomial NB model (from scratch) accuracy:  0.8776785714285714\n",
            "Multinomial NB model (from scratch) F1:  0.8743982469452924\n",
            "\n",
            "\n",
            "Gaussian NB model (from scratch) accuracy:  0.5785714285714286\n",
            "Gaussian NB model (from scratch) F1:  0.5065047572104973\n"
          ]
        }
      ]
    },
    {
      "cell_type": "markdown",
      "source": [
        "# Part 2: Clustering\n",
        "\n",
        "\n",
        "---\n",
        "**Instructions:**<br>\n",
        "You are given a training dataset in CSV format (hw5_cluster.csv). The files each contain\n",
        "40 rows with 2 columns. Column 1 & 2 are the features. There are no labels for this\n",
        "dataset. Your goal for this assignment is to implement a clustering algorithm and run it\n",
        "on this dataset. For this assignment you can the Euclidean distance as the distance\n",
        "function.\n",
        "\n",
        "\n",
        "\n"
      ],
      "metadata": {
        "id": "-P8zQVLHKncD"
      }
    },
    {
      "cell_type": "markdown",
      "source": [
        "**2.a:** Implement a generalized K-means algorithm from scratch. You\n",
        "should have a single function that takes in as input the data points, K, and some\n",
        "other hyperparameters, specified below. The function should return K sets of data\n",
        "points. Each set corresponding to one cluster.\n",
        "\n",
        "The hyperparameters your functions should support and the values they can take are:\n",
        "- The method for calculating the centroid (i.e. the mean)\n",
        "- The initialization method: Random Split Initialization or Random Seed\n",
        "Selection Method\n",
        "- Max_iter: max number of iterations to run the algorithm.\n",
        "- K: number of clusters<br><br>\n",
        "Note that your stopping condition should have two parts:\n",
        "1. Stop if you reach the max iterations\n",
        "2. Stop if no change is made to the clusters in the last step."
      ],
      "metadata": {
        "id": "nh5c-4iKLduE"
      }
    },
    {
      "cell_type": "code",
      "source": [
        "def k_means(data, init_method, max_iter, k, threshold):\n",
        "  # Convert to numpy array for easier manipulation:\n",
        "  data = np.array(data)\n",
        "  vals = data.shape[0]\n",
        "\n",
        "  # Following heuristic outlines from Lecture 15/help from TA office hours:\n",
        "\n",
        "  if init_method == 'random_split':\n",
        "    # Split S into an initial, randomized set of k buckets (i.e. clusters) (the buckets are prefilled with values from S)\n",
        "    np.random.shuffle(data)\n",
        "    clusters = np.array_split(data, k)  # use array_split instead of split in case bucket sizes are not equal\n",
        "    cluster_centers = np.array([np.mean(cluster, axis=0) for cluster in clusters])  # Compute initial mean (i.e. cluster centers) of each bucket\n",
        "\n",
        "  elif init_method == 'random_seed':\n",
        "    # Create k empty buckets, and randomly select k distinct values (i.e. the \"seed\") from S to initialize each bucket (one seed per bucket)\n",
        "    random_indices = np.random.choice(vals, k, replace=False)  # choose k values as \"seeds\" (without repeats)\n",
        "    cluster_centers = data[random_indices]\n",
        "\n",
        "  else:\n",
        "    print(\"Invalid initialization method -- choose either 'random_split' or 'random_seed'\")\n",
        "    return\n",
        "\n",
        "  # Repeat until a certain number of iterations are performed (or no change occurs/change is below a threshold):\n",
        "  for iter in range(max_iter):\n",
        "    new_clusters = [[] for num in range(k)]\n",
        "\n",
        "    # For each data point in the data set, calculate the euclidian distance between the point and each cluster center:\n",
        "    for s in data:\n",
        "      distances = [np.linalg.norm(s - center) for center in cluster_centers]\n",
        "      # Find the cluster Si such that distance is minimal and put the data point in that cluster:\n",
        "      closest_cluster_index = np.argmin(distances)\n",
        "      new_clusters[closest_cluster_index].append(s)\n",
        "\n",
        "    new_clusters = [np.array(new_cluster) for new_cluster in new_clusters]\n",
        "\n",
        "    # Re-compute the mean of each cluster\n",
        "    new_cluster_centers = []\n",
        "    for new_cluster in new_clusters:\n",
        "      if len(new_cluster) > 0:  # If the bucket is not empty, calculate new mean/cluster center\n",
        "        new_cluster_centers.append(np.mean(new_cluster, axis=0))\n",
        "      else:  # Otherwise, retain the initial mean/cluster center\n",
        "        new_cluster_centers.append(cluster_centers[len(new_cluster_centers)])\n",
        "\n",
        "    new_cluster_centers = np.array(new_cluster_centers)\n",
        "\n",
        "    # Finally, check change between previous cluster centers and current; if the change is small enough (below threshold), can be done rearranging clusters\n",
        "    change = np.linalg.norm(new_cluster_centers - cluster_centers)\n",
        "    if change < threshold:\n",
        "      break\n",
        "\n",
        "    # Otherwise, update for next iteration:\n",
        "    cluster_centers = new_cluster_centers\n",
        "\n",
        "  # Return the final clusters and centers\n",
        "  return new_clusters, cluster_centers\n"
      ],
      "metadata": {
        "id": "1fpUqYZpJbR9"
      },
      "execution_count": 408,
      "outputs": []
    },
    {
      "cell_type": "markdown",
      "source": [
        "**2.b:** Silhouette score. In this part of the assignment, you are implementing\n",
        "a function from scratch that calculates the Silhouette score for a list of clusters. The\n",
        "function should take in a list of clusters (such as the output of the last function you\n",
        "implemented) and return a single Silhouette score. **Report the Silhouette score for {k=5,\n",
        "Initialization method = Random Seed Selection, Max_iter = 50, method for calculating\n",
        "centroid = mean} using your K-Means code from the previous question.**"
      ],
      "metadata": {
        "id": "eScqjeYv1BwV"
      }
    },
    {
      "cell_type": "code",
      "source": [
        "def calculate_silhouette_score(clusters, cluster_centers):\n",
        "  # From Lecture 16 slides: SilhouetteScore(S1, . . . , Sk ) = ∑x∈S s(x), where s(x) = (b(x) − a(x))/max(a(x), b(x))\n",
        "  silhouette_scores = []\n",
        "\n",
        "  for curr_cluster_index, curr_cluster in enumerate(clusters):\n",
        "    # For each point x in the current cluster Si:\n",
        "    for x in curr_cluster:\n",
        "\n",
        "      # Calculate a(x), average intra-cluster distance --> find the average distance to all other points in that cluster\n",
        "      # If there are other points in the cluster, find a_x, otherwise a_x = 0\n",
        "      if len(curr_cluster) > 1:\n",
        "        distances_in_same_cluster = []\n",
        "        for x_prime in curr_cluster:\n",
        "          if not np.array_equal(x, x_prime):  # If not comparing a point to itself\n",
        "            distances_in_same_cluster.append(np.linalg.norm(x - x_prime))\n",
        "        a_x = np.mean(distances_in_same_cluster)\n",
        "      else:\n",
        "        a_x = 0\n",
        "\n",
        "      # Now calculate b(x), mean nearest-cluster distance --> (for the same point) find the smallest average distance to all points in any other cluster (excluding its own cluster) to find the nearest cluster\n",
        "      avg_distances_to_other_clusters = []\n",
        "      for other_cluster_index, other_cluster in enumerate(clusters):\n",
        "        if (curr_cluster_index != other_cluster_index):\n",
        "          # Average distance to all points of another cluster can be reduced in calculations to simply the distance to other clusters' centroids\n",
        "          avg_distances_to_other_clusters.append(np.linalg.norm(x - cluster_centers[other_cluster_index]))\n",
        "\n",
        "      # If there are other clusters, find b_x, otherwise b_x = 0\n",
        "      if avg_distances_to_other_clusters:\n",
        "        b_x = min(avg_distances_to_other_clusters)\n",
        "      else:\n",
        "        b_x = 0\n",
        "\n",
        "      # Finally, calculate the silhouette score for current point x:\n",
        "      if max(a_x, b_x) > 0:  # To eliminate potential divisions by 0\n",
        "        score = (b_x - a_x) / max(a_x, b_x)\n",
        "      else:\n",
        "        score = 0\n",
        "\n",
        "      silhouette_scores.append(score)\n",
        "\n",
        "  return np.mean(silhouette_scores)"
      ],
      "metadata": {
        "id": "xmAveiMOXjD4"
      },
      "execution_count": 409,
      "outputs": []
    },
    {
      "cell_type": "code",
      "source": [
        "# Reading the data:\n",
        "cluster_train_data = pd.read_csv('/content/drive/My Drive/Colab Notebooks/hw5_cluster.csv')\n",
        "#print(cluster_train_data.head)"
      ],
      "metadata": {
        "id": "4zIFqWLMzyFM"
      },
      "execution_count": 410,
      "outputs": []
    },
    {
      "cell_type": "code",
      "source": [
        "# Define input and apply k-means to report silhouette score:\n",
        "init_method = 'random_seed'\n",
        "max_iter = 50\n",
        "k = 5\n",
        "threshold = 1e-9\n",
        "\n",
        "clusters, cluster_centers = k_means(cluster_train_data, init_method, max_iter, k, threshold)\n",
        "\n",
        "silhouette_score = calculate_silhouette_score(clusters, cluster_centers)\n",
        "print(\"Silhouette Score: \", silhouette_score, \"\\n\")  # Note: changes slightly every run\n",
        "\n",
        "# Graph results to visualize accuracy (graphing help reference: https://jakevdp.github.io/PythonDataScienceHandbook/05.11-k-means.html):\n",
        "for cluster_index, cluster in enumerate(clusters):\n",
        "    plt.scatter(cluster[:, 0], cluster[:, 1], label=f'Cluster {cluster_index+1}')\n",
        "\n",
        "# Plot the cluster centers:\n",
        "plt.scatter(cluster_centers[:, 0], cluster_centers[:, 1], c='black', s=200, marker='x', label='Centroids')\n",
        "\n",
        "# Format plot:\n",
        "plt.title('K-Means Clustering (Random-Seed, max_iter=50)')\n",
        "plt.xlabel('Feature 1')\n",
        "plt.ylabel('Feature 2')\n",
        "plt.legend()\n",
        "plt.show()"
      ],
      "metadata": {
        "colab": {
          "base_uri": "https://localhost:8080/",
          "height": 508
        },
        "id": "DksU_NnaLrl3",
        "outputId": "ad85ae12-9e3e-4181-8cbf-4a48badcc0dd"
      },
      "execution_count": 411,
      "outputs": [
        {
          "output_type": "stream",
          "name": "stdout",
          "text": [
            "Silhouette Score:  0.5888506065761432 \n",
            "\n"
          ]
        },
        {
          "output_type": "display_data",
          "data": {
            "text/plain": [
              "<Figure size 640x480 with 1 Axes>"
            ],
            "image/png": "[encoded data removed]"
          },
          "metadata": {}
        }
      ]
    },
    {
      "cell_type": "markdown",
      "source": [
        "# Part 3: Bonus\n",
        "\n",
        "\n",
        "---"
      ],
      "metadata": {
        "id": "U59P32QZCpe_"
      }
    },
    {
      "cell_type": "code",
      "source": [
        "# Define input and run the model:\n",
        "init_method = 'random_split'\n",
        "max_iter = 100\n",
        "threshold = 1e-4\n",
        "\n",
        "k_values = [2,3,4,5]\n",
        "test_silhouette_scores = {}\n",
        "\n",
        "for k in k_values:\n",
        "  clusters, cluster_centers = k_means(cluster_train_data, init_method, max_iter, k, threshold)\n",
        "  test_silhouette_scores[k] = calculate_silhouette_score(clusters, cluster_centers)\n",
        "  print(f\"Silhouette Score for k={k}: {test_silhouette_scores[k]}\")\n",
        "\n",
        "best_k = max(test_silhouette_scores, key=test_silhouette_scores.get)\n",
        "print(\"\\nThe best value of k is:\", best_k)"
      ],
      "metadata": {
        "colab": {
          "base_uri": "https://localhost:8080/"
        },
        "id": "iMyz65LK2Rpu",
        "outputId": "61a58f4e-c0d8-455a-b28b-ec32073092f8"
      },
      "execution_count": 412,
      "outputs": [
        {
          "output_type": "stream",
          "name": "stdout",
          "text": [
            "Silhouette Score for k=2: 0.7686441976362192\n",
            "Silhouette Score for k=3: 0.7180062652612687\n",
            "Silhouette Score for k=4: 0.6179881838434761\n",
            "Silhouette Score for k=5: 0.6302119208847985\n",
            "\n",
            "The best value of k is: 2\n"
          ]
        }
      ]
    }
  ]
}