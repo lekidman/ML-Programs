{
  "cells": [
    {
      "cell_type": "markdown",
      "metadata": {
        "id": "T4QpN207Fg5a"
      },
      "source": [
        "# HW3\n"
      ]
    },
    {
      "cell_type": "markdown",
      "metadata": {
        "id": "7flPLB_W_pRw"
      },
      "source": [
        "Please run the cell below to import libraries needed for this HW. Please use the autograd numpy, otherwise you will have issues. Please remember to always use the np library for mathematical functions (e.g., np.log, np.exp, np.sum, etc)"
      ]
    },
    {
      "cell_type": "code",
      "execution_count": 183,
      "metadata": {
        "id": "52dyLKp8_pRx"
      },
      "outputs": [],
      "source": [
        "import autograd.numpy as np\n",
        "from autograd import grad\n",
        "import matplotlib.pyplot as plt\n",
        "%matplotlib inline"
      ]
    },
    {
      "cell_type": "code",
      "execution_count": 184,
      "metadata": {
        "colab": {
          "base_uri": "https://localhost:8080/"
        },
        "id": "EIQZOBbZUOAo",
        "outputId": "d6f4628f-e318-4c4d-a633-9845f9774067"
      },
      "outputs": [
        {
          "output_type": "stream",
          "name": "stdout",
          "text": [
            "Drive already mounted at /content/drive; to attempt to forcibly remount, call drive.mount(\"/content/drive\", force_remount=True).\n"
          ]
        }
      ],
      "source": [
        "from google.colab import drive\n",
        "drive.mount('/content/drive')"
      ]
    },
    {
      "cell_type": "markdown",
      "metadata": {
        "id": "v8UJtvmB_pRy"
      },
      "source": [
        "Q1) [5 points] Implement the sigmod funcation discussed in class. The function takes a value, x, as input and returns the sigmoid function applied to the value."
      ]
    },
    {
      "cell_type": "code",
      "execution_count": 185,
      "metadata": {
        "id": "LKNQLImi_pRy"
      },
      "outputs": [],
      "source": [
        "def sigmoid(x):\n",
        "    # From Lecture 9 slides:\n",
        "    y = 1 / (1 + np.exp(-x))\n",
        "\n",
        "    return y"
      ]
    },
    {
      "cell_type": "markdown",
      "metadata": {
        "id": "R6YlW8GV0tKq"
      },
      "source": [
        "Let's try your implementation of the sigmoid function on the following values to make sure it is working fine:\n",
        "\n",
        "1. x = -1.5\n",
        "2. x = 0\n",
        "3. x = 2.5"
      ]
    },
    {
      "cell_type": "code",
      "execution_count": 186,
      "metadata": {
        "colab": {
          "base_uri": "https://localhost:8080/"
        },
        "id": "4piXYHoi0vrf",
        "outputId": "e42146c5-721d-41e1-87aa-00aec2f6ff76"
      },
      "outputs": [
        {
          "output_type": "stream",
          "name": "stdout",
          "text": [
            "sigmoid(-1.5) =  0.18242552380635635\n",
            "sigmoid(0) =  0.5\n",
            "sigmoid(2.5) =  0.9241418199787566\n"
          ]
        }
      ],
      "source": [
        "print('sigmoid(-1.5) = ', sigmoid(-1.5))\n",
        "print('sigmoid(0) = ', sigmoid(0))\n",
        "print('sigmoid(2.5) = ', sigmoid(2.5))"
      ]
    },
    {
      "cell_type": "markdown",
      "metadata": {
        "id": "X-ft-9-B_pRy"
      },
      "source": [
        "Q2) [20 points] Implement the logistic regression model and the cross entropy cost discussed in class. Note that the logistic regression model relies on the sigmoid function (which you have implemented above) and the linear  model (which you have implemented in HW2). You can use the linear model from HW2 for this problem. Similar to the least-squares cost from HW2, the cross entropy cost takes in as input an array of weights, w, an array of x's and an array of ys and return a float indicating the total cost."
      ]
    },
    {
      "cell_type": "code",
      "execution_count": 187,
      "metadata": {
        "id": "FxFHCq6A_pRy"
      },
      "outputs": [],
      "source": [
        "#Your linear model from HW2\n",
        "def model(x,w):\n",
        "    # From Lecture 4 slides, linear regression is given by the equation x^T*w ~= y_predicted:\n",
        "    y_predicted = w[0] + np.dot(x.T,w[1:])\n",
        "\n",
        "    return y_predicted\n",
        "\n",
        "#The logistic regression cross entropy cost\n",
        "def cross_entropy(w,x,y):\n",
        "  # Following Lecture 10 slides:\n",
        "    cost = -(1.0/float(y.size))*(np.sum((y*np.log(sigmoid(model(x,w)))) + (1-y)*(np.log(1-sigmoid(model(x,w))))))\n",
        "\n",
        "    return cost"
      ]
    },
    {
      "cell_type": "markdown",
      "metadata": {
        "id": "fb6514tF_pRy"
      },
      "source": [
        "Run the code below to read a data file and plot a scatter plot of x vs y."
      ]
    },
    {
      "cell_type": "code",
      "execution_count": 188,
      "metadata": {
        "colab": {
          "base_uri": "https://localhost:8080/",
          "height": 430
        },
        "id": "IflAu39E_pRy",
        "outputId": "0b8370bb-96c4-468b-9fbe-9b5a3e44bd85"
      },
      "outputs": [
        {
          "output_type": "display_data",
          "data": {
            "text/plain": [
              "<Figure size 640x480 with 1 Axes>"
            ],
            "image/png": "[encoded data removed]"
          },
          "metadata": {}
        }
      ],
      "source": [
        "csvname = '/content/drive/My Drive/Colab Notebooks/2d_classification_data_v1_entropy.csv'\n",
        "data = np.loadtxt(csvname,delimiter = ',')\n",
        "x = data[:-1,:]\n",
        "y = data[-1:,:]\n",
        "\n",
        "# Plot scatter:\n",
        "plt.scatter(x,y)\n",
        "\n",
        "plt.show()"
      ]
    },
    {
      "cell_type": "markdown",
      "metadata": {
        "id": "OTVuxR0r_pRy"
      },
      "source": [
        "Q3) [10 points] Move the gradient descent function from HW2. Run the function using the cross_entropy cost and the x and y from above. The parameters should be set to: max_its=1500,w=[3.0,3.0 ], and alpha=1. Save the cost and weight history returned by the gradient descent function. Plot the cost history.\n"
      ]
    },
    {
      "cell_type": "code",
      "execution_count": 189,
      "metadata": {
        "id": "Uh_STKBu_pRy"
      },
      "outputs": [],
      "source": [
        "#gradient descent function\n",
        "#inputs: g (cost function), alpha (learning rate parameter), max_its (maximum number of iterations), w (initialization)\n",
        "def gradient_descent(g,alpha,max_its,w,x,y):\n",
        "\n",
        "    gradient = grad(g)   ## This is how you use the autograd library to find the gradient of a function\n",
        "    wk = w #Setting our first value of w to the initial input value, w\n",
        "\n",
        "    #Initialize storage arrays:\n",
        "    cost_history = [g(wk,x,y)]  #This array will store the cost value from each iteration; initialize with cost of w\n",
        "    weight_history = [wk]  #values of w are parameters, also called weights, so weight_history will store each iteration of wk\n",
        "\n",
        "    for k in range(max_its):\n",
        "        ##Gradient descent algorithm is given by: w^k = w^(k-1) + -α∇g(w^(k-1))\n",
        "        deriv_val = gradient(wk,x,y)\n",
        "        wk = wk - alpha*deriv_val  #Update wk based on previous val of wk (i.e. w^k-1)\n",
        "\n",
        "        cost_val = g(wk,x,y)  #Calculate new cost using cost function g(w)\n",
        "\n",
        "        cost_history.append(cost_val)\n",
        "        weight_history.append(wk)\n",
        "\n",
        "\n",
        "    return weight_history,cost_history"
      ]
    },
    {
      "cell_type": "code",
      "execution_count": 190,
      "metadata": {
        "colab": {
          "base_uri": "https://localhost:8080/",
          "height": 472
        },
        "id": "ddCJ7iBZ_pRz",
        "outputId": "7c9eff88-79ea-44fa-f8e9-5c2ecbbe39b8"
      },
      "outputs": [
        {
          "output_type": "display_data",
          "data": {
            "text/plain": [
              "<Figure size 640x480 with 1 Axes>"
            ],
            "image/png": "[encoded data removed]"
          },
          "metadata": {}
        }
      ],
      "source": [
        "##Call the gradient_descent function here\n",
        "max_its = 1500\n",
        "w = np.array([3.0,3.0])\n",
        "alpha = 1\n",
        "\n",
        "weights, costs = gradient_descent(cross_entropy,alpha,max_its,w,x,y)\n",
        "\n",
        "##Plot the cost history here\n",
        "plt.plot(costs)\n",
        "\n",
        "# Format plot:\n",
        "plt.title(\"Cross Entropy Cost History per Iteration\")\n",
        "plt.xlabel(\"Iteration\")\n",
        "plt.ylabel(\"Cost\")\n",
        "\n",
        "plt.show()"
      ]
    },
    {
      "cell_type": "markdown",
      "metadata": {
        "id": "xBgikNKF_pRz"
      },
      "source": [
        "Q4) [10 points] Implement a logistic regression classifier that takes in the learned weights and x as input and returns the probability of the positive class (note that this is just the output of the sigmoid applied to the linear combination of the x and w)"
      ]
    },
    {
      "cell_type": "code",
      "execution_count": 191,
      "metadata": {
        "id": "958J3ZPY_pRz"
      },
      "outputs": [],
      "source": [
        "def logistic_regression(learned_w,x):\n",
        "    #your code here\n",
        "    positive_class_prob = sigmoid(model(x, learned_w))\n",
        "\n",
        "    return positive_class_prob"
      ]
    },
    {
      "cell_type": "markdown",
      "metadata": {
        "id": "dRqczx_B_pRz"
      },
      "source": [
        "Q5) [5 points] Use the learned weights from the last gradient descent run and the logistic regression function implemented above to plot the learned curve. You can use the linspace method (shown below) to generate a list of xs that you can use. You need to generate a y for each of the candidate xs using the logistic regression function and the learned weights. On the same figure, also plot the scatter plot from before.\n"
      ]
    },
    {
      "cell_type": "code",
      "execution_count": 192,
      "metadata": {
        "id": "CNMBKyh8_pRz",
        "colab": {
          "base_uri": "https://localhost:8080/",
          "height": 472
        },
        "outputId": "559fb105-61fc-47bf-b88f-0b8d61936e3f"
      },
      "outputs": [
        {
          "output_type": "display_data",
          "data": {
            "text/plain": [
              "<Figure size 640x480 with 1 Axes>"
            ],
            "image/png": "[encoded data removed]"
          },
          "metadata": {}
        }
      ],
      "source": [
        "s = np.linspace(np.min(x),np.max(x))\n",
        "#print('Weights: ', weights[-1])\n",
        "#print('\\nS: ', np.array([s]))\n",
        "\n",
        "lr = logistic_regression(weights[-1], np.array([s]))\n",
        "# We wrap s in np.array([]) in order to make it the same shape as weights,\n",
        "  # i.e. one row with 50 columns as opposed to a 1D array\n",
        "# Use the last value of weights as usually the most accurately learned weight\n",
        "\n",
        "# Plot learned curve:\n",
        "plt.plot(s, lr, color='red')\n",
        "\n",
        "# Plot original scatter plot:\n",
        "plt.scatter(x,y,alpha=0.5)\n",
        "\n",
        "# Format plot:\n",
        "plt.title(\"Cost History per Iteration\")\n",
        "plt.xlabel(\"Iteration\")\n",
        "plt.ylabel(\"Cost\")\n",
        "\n",
        "plt.show()\n"
      ]
    },
    {
      "cell_type": "markdown",
      "metadata": {
        "id": "v46mI5OD_pRz"
      },
      "source": [
        "Q6) [5 points] Slightly modify the logistic regression model above so that it returns a 1 or 0 based on the specified threshold."
      ]
    },
    {
      "cell_type": "code",
      "execution_count": 193,
      "metadata": {
        "id": "h4Q_Rb89_pRz"
      },
      "outputs": [],
      "source": [
        "def logistic_regression_modified(learned_w,x, threshold):\n",
        "    #your code here\n",
        "    probabilities = sigmoid(model(x, learned_w))\n",
        "\n",
        "    class_label = []\n",
        "\n",
        "    for prob in probabilities:\n",
        "      if prob > threshold:\n",
        "        class_label.append(1)\n",
        "      else:\n",
        "        class_label.append(0)\n",
        "\n",
        "\n",
        "    return class_label"
      ]
    },
    {
      "cell_type": "markdown",
      "metadata": {
        "id": "Suo1vYlo_pRz"
      },
      "source": [
        "Q7) [15 points] Write a function (called evaluate) that takes in actual and predicted ys (for a binary classification problem) and return a confusion matrix and the accuracy. Use the modified logistic regression model and the evaluate function below to report the confusion matrix and accuracy for the x and y used for our training at a threshold of 0.5.  "
      ]
    },
    {
      "cell_type": "code",
      "execution_count": 194,
      "metadata": {
        "id": "L3FaIpHI_pR0"
      },
      "outputs": [],
      "source": [
        "def evaluate(y_actual,y_pred):\n",
        "    ## Following Lecture 9 slides:\n",
        "    \"\"\"\n",
        "    Our confusion matrix takes the form:\n",
        "    [A=TP  B=FN]\n",
        "    [C=FP  D=TN]\n",
        "    where x-label = predicted label (-1,+1); y-label = actual label (-1,+1)\n",
        "\n",
        "    Accuracy is given as: (TP+TN)/(TP+FN+TN+FP)\n",
        "    \"\"\"\n",
        "    true_positive = 0\n",
        "    false_positive = 0\n",
        "    false_negative = 0\n",
        "    true_negative = 0\n",
        "\n",
        "    for actual,predicted in zip(y_actual.flatten(),y_pred):\n",
        "      if actual == 1 and predicted == 1:\n",
        "        true_positive += 1\n",
        "      elif actual == 1 and predicted == 0:\n",
        "        false_negative += 1\n",
        "      elif actual == 0 and predicted == 0:\n",
        "        true_negative += 1\n",
        "      elif actual == 0 and predicted == 1:\n",
        "        false_positive += 1\n",
        "\n",
        "    accuracy = (true_positive+true_negative)/(true_positive+false_negative+true_negative+false_positive)\n",
        "\n",
        "    return false_positive, false_negative, true_positive, true_negative, accuracy"
      ]
    },
    {
      "cell_type": "code",
      "source": [
        "# Now reporting the confusion matrix and accuracy for the x and y used for our training at a threshold of 0.5:\n",
        "threshold = 0.5\n",
        "\n",
        "# Get the predicted labels using modified log regression and evaluate:\n",
        "labels = logistic_regression_modified(weights[-1], x, threshold)\n",
        "eval = evaluate(y, labels)\n",
        "\n",
        "# Print results:\n",
        "print('Confusion matrix: \\n', [eval[2], eval[1]], '\\n', [eval[0], eval[3]])\n",
        "print('\\nAccuracy: ', eval[4])"
      ],
      "metadata": {
        "colab": {
          "base_uri": "https://localhost:8080/"
        },
        "id": "dEPWMIwTog-o",
        "outputId": "27c0dacd-2e33-488e-970d-211b8e0bbb02"
      },
      "execution_count": 195,
      "outputs": [
        {
          "output_type": "stream",
          "name": "stdout",
          "text": [
            "Confusion matrix: \n",
            " [6, 0] \n",
            " [0, 5]\n",
            "\n",
            "Accuracy:  1.0\n"
          ]
        }
      ]
    },
    {
      "cell_type": "markdown",
      "metadata": {
        "id": "ZVD4Z3Ub_pR0"
      },
      "source": [
        "Q8) [20 points] Implement the perceptron cost function from the class (the softmax version). Note that the perceptron cost also uses the linear model (the model function from question 2)."
      ]
    },
    {
      "cell_type": "code",
      "execution_count": 196,
      "metadata": {
        "id": "dxEGYSoP_pR0"
      },
      "outputs": [],
      "source": [
        "def perceptron_cost(w,x,y):\n",
        "   # From Lecture 9 slides:\n",
        "   cost = np.sum(np.log(1 + np.exp(-y*model(x,w)))) / float(y.size)\n",
        "\n",
        "   return cost"
      ]
    },
    {
      "cell_type": "markdown",
      "metadata": {
        "id": "lhYnvgTY_pR0"
      },
      "source": [
        "Q9) [10 points]\n",
        "* Run gradient descent function using the perceptron cost and the x and y from above and the parameters set to: max_its=1500,w=[1.0,1.0], and alpha=1.0.\n",
        "* Save the cost and weight history returned by the gradient descent function.\n",
        "* Plot the cost history.\n",
        "* Answer: Which cost seems to do better on this dataset? Why do think that is?\n"
      ]
    },
    {
      "cell_type": "code",
      "execution_count": 197,
      "metadata": {
        "id": "877mY-4g_pR0",
        "colab": {
          "base_uri": "https://localhost:8080/",
          "height": 472
        },
        "outputId": "b07fc9c6-93dd-4e15-c53e-18567c941d32"
      },
      "outputs": [
        {
          "output_type": "display_data",
          "data": {
            "text/plain": [
              "<Figure size 640x480 with 1 Axes>"
            ],
            "image/png": "[encoded data removed]"
          },
          "metadata": {}
        }
      ],
      "source": [
        "##Call the gradient_descent function here\n",
        "max_its = 1500\n",
        "w = np.array([1.0,1.0])\n",
        "alpha = 1.0\n",
        "\n",
        "weight_perc, cost_perc = gradient_descent(perceptron_cost,alpha,max_its,w,x,y)\n",
        "\n",
        "##Plot the cost history here\n",
        "plt.plot(cost_perc)\n",
        "\n",
        "# Format plot:\n",
        "plt.title(\"Softmax Perceptron Cost History per Iteration\")\n",
        "plt.xlabel(\"Iteration\")\n",
        "plt.ylabel(\"Cost\")\n",
        "\n",
        "plt.show()"
      ]
    },
    {
      "cell_type": "code",
      "source": [
        "# Plotting the two costs for comparison:\n",
        "plt.plot(costs, label='Cross Entropy')\n",
        "plt.plot(cost_perc, color='red', label='Perceptron')\n",
        "\n",
        "# Format plot:\n",
        "plt.title(\"Perceptron vs. Cross Entropy Cost History per Iteration\")\n",
        "plt.xlabel(\"Iteration\")\n",
        "plt.ylabel(\"Cost\")\n",
        "plt.legend(loc='upper right')\n",
        "\n",
        "plt.show()"
      ],
      "metadata": {
        "colab": {
          "base_uri": "https://localhost:8080/",
          "height": 472
        },
        "id": "7BFHUi8Y-VrP",
        "outputId": "55924f2a-5e5b-45e7-93c3-e5bcf2864b1c"
      },
      "execution_count": 198,
      "outputs": [
        {
          "output_type": "display_data",
          "data": {
            "text/plain": [
              "<Figure size 640x480 with 1 Axes>"
            ],
            "image/png": "[encoded data removed]"
          },
          "metadata": {}
        }
      ]
    },
    {
      "cell_type": "markdown",
      "source": [
        "<font color='red'>Based on the above graph of costs, it seems that the **cross-entropy model provides better results** with gradient descent. The cross entropy data converges at a lower/closer to zero cost, which indicates that the model is more effective at minimizing prediction errors when using gradient descent--in short, it is fitting the data better. Furthermore, as elaborated upon in Lecture 7-8 slides, for a linear binary classification framework (which Logisitic Regression is), cross-entropy is the most commonly used cost function, which speaks to its effectiveness."
      ],
      "metadata": {
        "id": "yc-e0Ob3DMAK"
      }
    },
    {
      "cell_type": "markdown",
      "metadata": {
        "id": "qGyY2koB_pR0"
      },
      "source": [
        "Q10) [11 points]  The file 'heart.csv' has 304 lines, each one corresponding to a data point. Each row (i.e., data point), has several columns.\n",
        "\n",
        "* Read the data file. (Note that the first line is the header describing each column.)\n",
        "* Use the data above to set y to be the \"target\" and X to be the remaining columns.\n",
        "* Split your data into 80% train 20% test using train_test_split.\n",
        "* Use sklearn to fit a logistic regression model on your training set. Use all the default parameters. Do not evaluate at this point. (You can find out about sklearn logistic regression here: https://scikit-learn.org/stable/modules/generated/sklearn.linear_model.LogisticRegression.html)"
      ]
    },
    {
      "cell_type": "code",
      "execution_count": 199,
      "metadata": {
        "id": "lJ6qvvgw_pR0",
        "colab": {
          "base_uri": "https://localhost:8080/",
          "height": 80
        },
        "collapsed": true,
        "outputId": "83b45457-c96f-4b3a-e5e5-08543e339768"
      },
      "outputs": [
        {
          "output_type": "execute_result",
          "data": {
            "text/plain": [
              "LogisticRegression(max_iter=1000)"
            ],
            "text/html": [
              "<style>#sk-container-id-11 {\n",
              "  /* Definition of color scheme common for light and dark mode */\n",
              "  --sklearn-color-text: black;\n",
              "  --sklearn-color-line: gray;\n",
              "  /* Definition of color scheme for unfitted estimators */\n",
              "  --sklearn-color-unfitted-level-0: #fff5e6;\n",
              "  --sklearn-color-unfitted-level-1: #f6e4d2;\n",
              "  --sklearn-color-unfitted-level-2: #ffe0b3;\n",
              "  --sklearn-color-unfitted-level-3: chocolate;\n",
              "  /* Definition of color scheme for fitted estimators */\n",
              "  --sklearn-color-fitted-level-0: #f0f8ff;\n",
              "  --sklearn-color-fitted-level-1: #d4ebff;\n",
              "  --sklearn-color-fitted-level-2: #b3dbfd;\n",
              "  --sklearn-color-fitted-level-3: cornflowerblue;\n",
              "\n",
              "  /* Specific color for light theme */\n",
              "  --sklearn-color-text-on-default-background: var(--sg-text-color, var(--theme-code-foreground, var(--jp-content-font-color1, black)));\n",
              "  --sklearn-color-background: var(--sg-background-color, var(--theme-background, var(--jp-layout-color0, white)));\n",
              "  --sklearn-color-border-box: var(--sg-text-color, var(--theme-code-foreground, var(--jp-content-font-color1, black)));\n",
              "  --sklearn-color-icon: #696969;\n",
              "\n",
              "  @media (prefers-color-scheme: dark) {\n",
              "    /* Redefinition of color scheme for dark theme */\n",
              "    --sklearn-color-text-on-default-background: var(--sg-text-color, var(--theme-code-foreground, var(--jp-content-font-color1, white)));\n",
              "    --sklearn-color-background: var(--sg-background-color, var(--theme-background, var(--jp-layout-color0, #111)));\n",
              "    --sklearn-color-border-box: var(--sg-text-color, var(--theme-code-foreground, var(--jp-content-font-color1, white)));\n",
              "    --sklearn-color-icon: #878787;\n",
              "  }\n",
              "}\n",
              "\n",
              "#sk-container-id-11 {\n",
              "  color: var(--sklearn-color-text);\n",
              "}\n",
              "\n",
              "#sk-container-id-11 pre {\n",
              "  padding: 0;\n",
              "}\n",
              "\n",
              "#sk-container-id-11 input.sk-hidden--visually {\n",
              "  border: 0;\n",
              "  clip: rect(1px 1px 1px 1px);\n",
              "  clip: rect(1px, 1px, 1px, 1px);\n",
              "  height: 1px;\n",
              "  margin: -1px;\n",
              "  overflow: hidden;\n",
              "  padding: 0;\n",
              "  position: absolute;\n",
              "  width: 1px;\n",
              "}\n",
              "\n",
              "#sk-container-id-11 div.sk-dashed-wrapped {\n",
              "  border: 1px dashed var(--sklearn-color-line);\n",
              "  margin: 0 0.4em 0.5em 0.4em;\n",
              "  box-sizing: border-box;\n",
              "  padding-bottom: 0.4em;\n",
              "  background-color: var(--sklearn-color-background);\n",
              "}\n",
              "\n",
              "#sk-container-id-11 div.sk-container {\n",
              "  /* jupyter's `normalize.less` sets `[hidden] { display: none; }`\n",
              "     but bootstrap.min.css set `[hidden] { display: none !important; }`\n",
              "     so we also need the `!important` here to be able to override the\n",
              "     default hidden behavior on the sphinx rendered scikit-learn.org.\n",
              "     See: https://github.com/scikit-learn/scikit-learn/issues/21755 */\n",
              "  display: inline-block !important;\n",
              "  position: relative;\n",
              "}\n",
              "\n",
              "#sk-container-id-11 div.sk-text-repr-fallback {\n",
              "  display: none;\n",
              "}\n",
              "\n",
              "div.sk-parallel-item,\n",
              "div.sk-serial,\n",
              "div.sk-item {\n",
              "  /* draw centered vertical line to link estimators */\n",
              "  background-image: linear-gradient(var(--sklearn-color-text-on-default-background), var(--sklearn-color-text-on-default-background));\n",
              "  background-size: 2px 100%;\n",
              "  background-repeat: no-repeat;\n",
              "  background-position: center center;\n",
              "}\n",
              "\n",
              "/* Parallel-specific style estimator block */\n",
              "\n",
              "#sk-container-id-11 div.sk-parallel-item::after {\n",
              "  content: \"\";\n",
              "  width: 100%;\n",
              "  border-bottom: 2px solid var(--sklearn-color-text-on-default-background);\n",
              "  flex-grow: 1;\n",
              "}\n",
              "\n",
              "#sk-container-id-11 div.sk-parallel {\n",
              "  display: flex;\n",
              "  align-items: stretch;\n",
              "  justify-content: center;\n",
              "  background-color: var(--sklearn-color-background);\n",
              "  position: relative;\n",
              "}\n",
              "\n",
              "#sk-container-id-11 div.sk-parallel-item {\n",
              "  display: flex;\n",
              "  flex-direction: column;\n",
              "}\n",
              "\n",
              "#sk-container-id-11 div.sk-parallel-item:first-child::after {\n",
              "  align-self: flex-end;\n",
              "  width: 50%;\n",
              "}\n",
              "\n",
              "#sk-container-id-11 div.sk-parallel-item:last-child::after {\n",
              "  align-self: flex-start;\n",
              "  width: 50%;\n",
              "}\n",
              "\n",
              "#sk-container-id-11 div.sk-parallel-item:only-child::after {\n",
              "  width: 0;\n",
              "}\n",
              "\n",
              "/* Serial-specific style estimator block */\n",
              "\n",
              "#sk-container-id-11 div.sk-serial {\n",
              "  display: flex;\n",
              "  flex-direction: column;\n",
              "  align-items: center;\n",
              "  background-color: var(--sklearn-color-background);\n",
              "  padding-right: 1em;\n",
              "  padding-left: 1em;\n",
              "}\n",
              "\n",
              "\n",
              "/* Toggleable style: style used for estimator/Pipeline/ColumnTransformer box that is\n",
              "clickable and can be expanded/collapsed.\n",
              "- Pipeline and ColumnTransformer use this feature and define the default style\n",
              "- Estimators will overwrite some part of the style using the `sk-estimator` class\n",
              "*/\n",
              "\n",
              "/* Pipeline and ColumnTransformer style (default) */\n",
              "\n",
              "#sk-container-id-11 div.sk-toggleable {\n",
              "  /* Default theme specific background. It is overwritten whether we have a\n",
              "  specific estimator or a Pipeline/ColumnTransformer */\n",
              "  background-color: var(--sklearn-color-background);\n",
              "}\n",
              "\n",
              "/* Toggleable label */\n",
              "#sk-container-id-11 label.sk-toggleable__label {\n",
              "  cursor: pointer;\n",
              "  display: block;\n",
              "  width: 100%;\n",
              "  margin-bottom: 0;\n",
              "  padding: 0.5em;\n",
              "  box-sizing: border-box;\n",
              "  text-align: center;\n",
              "}\n",
              "\n",
              "#sk-container-id-11 label.sk-toggleable__label-arrow:before {\n",
              "  /* Arrow on the left of the label */\n",
              "  content: \"▸\";\n",
              "  float: left;\n",
              "  margin-right: 0.25em;\n",
              "  color: var(--sklearn-color-icon);\n",
              "}\n",
              "\n",
              "#sk-container-id-11 label.sk-toggleable__label-arrow:hover:before {\n",
              "  color: var(--sklearn-color-text);\n",
              "}\n",
              "\n",
              "/* Toggleable content - dropdown */\n",
              "\n",
              "#sk-container-id-11 div.sk-toggleable__content {\n",
              "  max-height: 0;\n",
              "  max-width: 0;\n",
              "  overflow: hidden;\n",
              "  text-align: left;\n",
              "  /* unfitted */\n",
              "  background-color: var(--sklearn-color-unfitted-level-0);\n",
              "}\n",
              "\n",
              "#sk-container-id-11 div.sk-toggleable__content.fitted {\n",
              "  /* fitted */\n",
              "  background-color: var(--sklearn-color-fitted-level-0);\n",
              "}\n",
              "\n",
              "#sk-container-id-11 div.sk-toggleable__content pre {\n",
              "  margin: 0.2em;\n",
              "  border-radius: 0.25em;\n",
              "  color: var(--sklearn-color-text);\n",
              "  /* unfitted */\n",
              "  background-color: var(--sklearn-color-unfitted-level-0);\n",
              "}\n",
              "\n",
              "#sk-container-id-11 div.sk-toggleable__content.fitted pre {\n",
              "  /* unfitted */\n",
              "  background-color: var(--sklearn-color-fitted-level-0);\n",
              "}\n",
              "\n",
              "#sk-container-id-11 input.sk-toggleable__control:checked~div.sk-toggleable__content {\n",
              "  /* Expand drop-down */\n",
              "  max-height: 200px;\n",
              "  max-width: 100%;\n",
              "  overflow: auto;\n",
              "}\n",
              "\n",
              "#sk-container-id-11 input.sk-toggleable__control:checked~label.sk-toggleable__label-arrow:before {\n",
              "  content: \"▾\";\n",
              "}\n",
              "\n",
              "/* Pipeline/ColumnTransformer-specific style */\n",
              "\n",
              "#sk-container-id-11 div.sk-label input.sk-toggleable__control:checked~label.sk-toggleable__label {\n",
              "  color: var(--sklearn-color-text);\n",
              "  background-color: var(--sklearn-color-unfitted-level-2);\n",
              "}\n",
              "\n",
              "#sk-container-id-11 div.sk-label.fitted input.sk-toggleable__control:checked~label.sk-toggleable__label {\n",
              "  background-color: var(--sklearn-color-fitted-level-2);\n",
              "}\n",
              "\n",
              "/* Estimator-specific style */\n",
              "\n",
              "/* Colorize estimator box */\n",
              "#sk-container-id-11 div.sk-estimator input.sk-toggleable__control:checked~label.sk-toggleable__label {\n",
              "  /* unfitted */\n",
              "  background-color: var(--sklearn-color-unfitted-level-2);\n",
              "}\n",
              "\n",
              "#sk-container-id-11 div.sk-estimator.fitted input.sk-toggleable__control:checked~label.sk-toggleable__label {\n",
              "  /* fitted */\n",
              "  background-color: var(--sklearn-color-fitted-level-2);\n",
              "}\n",
              "\n",
              "#sk-container-id-11 div.sk-label label.sk-toggleable__label,\n",
              "#sk-container-id-11 div.sk-label label {\n",
              "  /* The background is the default theme color */\n",
              "  color: var(--sklearn-color-text-on-default-background);\n",
              "}\n",
              "\n",
              "/* On hover, darken the color of the background */\n",
              "#sk-container-id-11 div.sk-label:hover label.sk-toggleable__label {\n",
              "  color: var(--sklearn-color-text);\n",
              "  background-color: var(--sklearn-color-unfitted-level-2);\n",
              "}\n",
              "\n",
              "/* Label box, darken color on hover, fitted */\n",
              "#sk-container-id-11 div.sk-label.fitted:hover label.sk-toggleable__label.fitted {\n",
              "  color: var(--sklearn-color-text);\n",
              "  background-color: var(--sklearn-color-fitted-level-2);\n",
              "}\n",
              "\n",
              "/* Estimator label */\n",
              "\n",
              "#sk-container-id-11 div.sk-label label {\n",
              "  font-family: monospace;\n",
              "  font-weight: bold;\n",
              "  display: inline-block;\n",
              "  line-height: 1.2em;\n",
              "}\n",
              "\n",
              "#sk-container-id-11 div.sk-label-container {\n",
              "  text-align: center;\n",
              "}\n",
              "\n",
              "/* Estimator-specific */\n",
              "#sk-container-id-11 div.sk-estimator {\n",
              "  font-family: monospace;\n",
              "  border: 1px dotted var(--sklearn-color-border-box);\n",
              "  border-radius: 0.25em;\n",
              "  box-sizing: border-box;\n",
              "  margin-bottom: 0.5em;\n",
              "  /* unfitted */\n",
              "  background-color: var(--sklearn-color-unfitted-level-0);\n",
              "}\n",
              "\n",
              "#sk-container-id-11 div.sk-estimator.fitted {\n",
              "  /* fitted */\n",
              "  background-color: var(--sklearn-color-fitted-level-0);\n",
              "}\n",
              "\n",
              "/* on hover */\n",
              "#sk-container-id-11 div.sk-estimator:hover {\n",
              "  /* unfitted */\n",
              "  background-color: var(--sklearn-color-unfitted-level-2);\n",
              "}\n",
              "\n",
              "#sk-container-id-11 div.sk-estimator.fitted:hover {\n",
              "  /* fitted */\n",
              "  background-color: var(--sklearn-color-fitted-level-2);\n",
              "}\n",
              "\n",
              "/* Specification for estimator info (e.g. \"i\" and \"?\") */\n",
              "\n",
              "/* Common style for \"i\" and \"?\" */\n",
              "\n",
              ".sk-estimator-doc-link,\n",
              "a:link.sk-estimator-doc-link,\n",
              "a:visited.sk-estimator-doc-link {\n",
              "  float: right;\n",
              "  font-size: smaller;\n",
              "  line-height: 1em;\n",
              "  font-family: monospace;\n",
              "  background-color: var(--sklearn-color-background);\n",
              "  border-radius: 1em;\n",
              "  height: 1em;\n",
              "  width: 1em;\n",
              "  text-decoration: none !important;\n",
              "  margin-left: 1ex;\n",
              "  /* unfitted */\n",
              "  border: var(--sklearn-color-unfitted-level-1) 1pt solid;\n",
              "  color: var(--sklearn-color-unfitted-level-1);\n",
              "}\n",
              "\n",
              ".sk-estimator-doc-link.fitted,\n",
              "a:link.sk-estimator-doc-link.fitted,\n",
              "a:visited.sk-estimator-doc-link.fitted {\n",
              "  /* fitted */\n",
              "  border: var(--sklearn-color-fitted-level-1) 1pt solid;\n",
              "  color: var(--sklearn-color-fitted-level-1);\n",
              "}\n",
              "\n",
              "/* On hover */\n",
              "div.sk-estimator:hover .sk-estimator-doc-link:hover,\n",
              ".sk-estimator-doc-link:hover,\n",
              "div.sk-label-container:hover .sk-estimator-doc-link:hover,\n",
              ".sk-estimator-doc-link:hover {\n",
              "  /* unfitted */\n",
              "  background-color: var(--sklearn-color-unfitted-level-3);\n",
              "  color: var(--sklearn-color-background);\n",
              "  text-decoration: none;\n",
              "}\n",
              "\n",
              "div.sk-estimator.fitted:hover .sk-estimator-doc-link.fitted:hover,\n",
              ".sk-estimator-doc-link.fitted:hover,\n",
              "div.sk-label-container:hover .sk-estimator-doc-link.fitted:hover,\n",
              ".sk-estimator-doc-link.fitted:hover {\n",
              "  /* fitted */\n",
              "  background-color: var(--sklearn-color-fitted-level-3);\n",
              "  color: var(--sklearn-color-background);\n",
              "  text-decoration: none;\n",
              "}\n",
              "\n",
              "/* Span, style for the box shown on hovering the info icon */\n",
              ".sk-estimator-doc-link span {\n",
              "  display: none;\n",
              "  z-index: 9999;\n",
              "  position: relative;\n",
              "  font-weight: normal;\n",
              "  right: .2ex;\n",
              "  padding: .5ex;\n",
              "  margin: .5ex;\n",
              "  width: min-content;\n",
              "  min-width: 20ex;\n",
              "  max-width: 50ex;\n",
              "  color: var(--sklearn-color-text);\n",
              "  box-shadow: 2pt 2pt 4pt #999;\n",
              "  /* unfitted */\n",
              "  background: var(--sklearn-color-unfitted-level-0);\n",
              "  border: .5pt solid var(--sklearn-color-unfitted-level-3);\n",
              "}\n",
              "\n",
              ".sk-estimator-doc-link.fitted span {\n",
              "  /* fitted */\n",
              "  background: var(--sklearn-color-fitted-level-0);\n",
              "  border: var(--sklearn-color-fitted-level-3);\n",
              "}\n",
              "\n",
              ".sk-estimator-doc-link:hover span {\n",
              "  display: block;\n",
              "}\n",
              "\n",
              "/* \"?\"-specific style due to the `<a>` HTML tag */\n",
              "\n",
              "#sk-container-id-11 a.estimator_doc_link {\n",
              "  float: right;\n",
              "  font-size: 1rem;\n",
              "  line-height: 1em;\n",
              "  font-family: monospace;\n",
              "  background-color: var(--sklearn-color-background);\n",
              "  border-radius: 1rem;\n",
              "  height: 1rem;\n",
              "  width: 1rem;\n",
              "  text-decoration: none;\n",
              "  /* unfitted */\n",
              "  color: var(--sklearn-color-unfitted-level-1);\n",
              "  border: var(--sklearn-color-unfitted-level-1) 1pt solid;\n",
              "}\n",
              "\n",
              "#sk-container-id-11 a.estimator_doc_link.fitted {\n",
              "  /* fitted */\n",
              "  border: var(--sklearn-color-fitted-level-1) 1pt solid;\n",
              "  color: var(--sklearn-color-fitted-level-1);\n",
              "}\n",
              "\n",
              "/* On hover */\n",
              "#sk-container-id-11 a.estimator_doc_link:hover {\n",
              "  /* unfitted */\n",
              "  background-color: var(--sklearn-color-unfitted-level-3);\n",
              "  color: var(--sklearn-color-background);\n",
              "  text-decoration: none;\n",
              "}\n",
              "\n",
              "#sk-container-id-11 a.estimator_doc_link.fitted:hover {\n",
              "  /* fitted */\n",
              "  background-color: var(--sklearn-color-fitted-level-3);\n",
              "}\n",
              "</style><div id=\"sk-container-id-11\" class=\"sk-top-container\"><div class=\"sk-text-repr-fallback\"><pre>LogisticRegression(max_iter=1000)</pre><b>In a Jupyter environment, please rerun this cell to show the HTML representation or trust the notebook. <br />On GitHub, the HTML representation is unable to render, please try loading this page with nbviewer.org.</b></div><div class=\"sk-container\" hidden><div class=\"sk-item\"><div class=\"sk-estimator fitted sk-toggleable\"><input class=\"sk-toggleable__control sk-hidden--visually\" id=\"sk-estimator-id-11\" type=\"checkbox\" checked><label for=\"sk-estimator-id-11\" class=\"sk-toggleable__label fitted sk-toggleable__label-arrow fitted\">&nbsp;&nbsp;LogisticRegression<a class=\"sk-estimator-doc-link fitted\" rel=\"noreferrer\" target=\"_blank\" href=\"https://scikit-learn.org/1.5/modules/generated/sklearn.linear_model.LogisticRegression.html\">?<span>Documentation for LogisticRegression</span></a><span class=\"sk-estimator-doc-link fitted\">i<span>Fitted</span></span></label><div class=\"sk-toggleable__content fitted\"><pre>LogisticRegression(max_iter=1000)</pre></div> </div></div></div></div>"
            ]
          },
          "metadata": {},
          "execution_count": 199
        }
      ],
      "source": [
        "## import logistic regression and the train_test split functions from sklearn\n",
        "from sklearn.linear_model import LogisticRegression\n",
        "from sklearn.model_selection import train_test_split\n",
        "import pandas as pd\n",
        "\n",
        "##Your code here (basing off of code from HW2):\n",
        "\n",
        "# Reading the data: (using pd since NumPy doesn't support multi-data types well)\n",
        "heart_data = pd.read_csv('/content/drive/My Drive/Colab Notebooks/heart.csv')\n",
        "heart_data.head()\n",
        "\n",
        "# Defining x and y:\n",
        "y = heart_data['target']\n",
        "x = heart_data[['age','sex','cp','trestbps','chol','fbs','restecg','thalach','exang','oldpeak','slope','ca','thal']]  # Features\n",
        "\n",
        "# Split into trains and tests:\n",
        "train_x,test_x,train_y,test_y = train_test_split(x,y,test_size=0.2, random_state=34352)\n",
        "\n",
        "# Train + fit the model:\n",
        "log_reg = LogisticRegression(max_iter=1000)\n",
        "log_reg.fit(train_x, train_y)"
      ]
    },
    {
      "cell_type": "markdown",
      "metadata": {
        "id": "hFwuvl_W_pR1"
      },
      "source": [
        "Q11) [5 points] Use the .predict_proba function of the logistic regression model that you have learned on your X_test. Note that the .predict_proba function returns an array of tuples where each element corresponds to the predicted probability for class 0 and 1 of the data point."
      ]
    },
    {
      "cell_type": "code",
      "execution_count": 200,
      "metadata": {
        "id": "Fc94rZDs_pR2"
      },
      "outputs": [],
      "source": [
        "##Your code here\n",
        "predicted_prob = log_reg.predict_proba(test_x)"
      ]
    },
    {
      "cell_type": "markdown",
      "metadata": {
        "id": "DdislPDJ_pR2"
      },
      "source": [
        "Q12) [12 points]\n",
        "\n",
        "Now you will report your results.\n",
        "\n",
        "* Filter the predicted probabilties from the last question to an array containing only the probabilites for class 1. (I.e., you should no longer have tuples.)\n",
        "* Use the roc_curve function from sklearn (https://scikit-learn.org/stable/modules/generated/sklearn.metrics.roc_curve.html) to plot the ROC curve for your predictions using the predicted probabilities for class 1 and your y_test (use the default parameters).\n",
        "* Print out the thresholds generated by the roc_curve function.\n",
        "* Use the roc_auc_score function from sklearn (https://scikit-learn.org/stable/modules/generated/sklearn.metrics.roc_auc_score.html#sklearn.metrics.roc_auc_score) to report the AUC score."
      ]
    },
    {
      "cell_type": "code",
      "execution_count": 201,
      "metadata": {
        "id": "Tkj9R0vZ_pR2",
        "colab": {
          "base_uri": "https://localhost:8080/",
          "height": 472
        },
        "outputId": "dd59fcf1-a3f6-41a3-f052-4cb99b87ea35"
      },
      "outputs": [
        {
          "output_type": "display_data",
          "data": {
            "text/plain": [
              "<Figure size 640x480 with 1 Axes>"
            ],
            "image/png": "[encoded data removed]"
          },
          "metadata": {}
        }
      ],
      "source": [
        "from sklearn.metrics import roc_curve\n",
        "##Your code here\n",
        "\n",
        "# Filter the predicted probabilties to only the probabilites for class 1:\n",
        "predicted_prob_class1 = predicted_prob[:, 1]  # Class 1 is data from the second column of predicted_prob\n",
        "\n",
        "# Use the roc_curve function to plot the ROC curve:\n",
        "fpr, tpr, thresholds = roc_curve(test_y, predicted_prob_class1, pos_label=1)\n",
        "\n",
        "plt.plot(fpr,tpr)\n",
        "\n",
        "# Format plot:\n",
        "plt.title(\"Receiver Operating Characteristic (ROC)\")\n",
        "plt.xlabel(\"False Positive Rate\")\n",
        "plt.ylabel(\"True Positive Rate\")\n",
        "\n",
        "plt.show()"
      ]
    },
    {
      "cell_type": "code",
      "execution_count": 202,
      "metadata": {
        "id": "FApMfK7pFPE4",
        "colab": {
          "base_uri": "https://localhost:8080/"
        },
        "outputId": "3551fdb6-f64e-4acf-9799-d71a6ec61972"
      },
      "outputs": [
        {
          "output_type": "stream",
          "name": "stdout",
          "text": [
            "Thresholds:\n",
            " [       inf 0.98931486 0.91035339 0.89646085 0.82087973 0.80797895\n",
            " 0.71087354 0.64140914 0.55754575 0.54859018 0.49801976 0.48221518\n",
            " 0.43896093 0.10321889 0.10071931 0.06909287 0.06796022 0.05913427\n",
            " 0.05360483 0.00187719]\n",
            "\n",
            "Area Under Curve:\n",
            " 0.9166666666666666\n"
          ]
        }
      ],
      "source": [
        "from sklearn.metrics import roc_auc_score\n",
        "\n",
        "# Print out the thresholds generated by the roc_curve function:\n",
        "print('Thresholds:\\n', thresholds)\n",
        "\n",
        "# Use the roc_auc_score function:\n",
        "auc = roc_auc_score(test_y, predicted_prob_class1)\n",
        "print('\\nArea Under Curve:\\n', auc)"
      ]
    },
    {
      "cell_type": "code",
      "source": [],
      "metadata": {
        "id": "dr6tNQJWLNKs"
      },
      "execution_count": 202,
      "outputs": []
    }
  ],
  "metadata": {
    "colab": {
      "provenance": []
    },
    "kernelspec": {
      "display_name": "Python 3 (ipykernel)",
      "language": "python",
      "name": "python3"
    },
    "language_info": {
      "codemirror_mode": {
        "name": "ipython",
        "version": 3
      },
      "file_extension": ".py",
      "mimetype": "text/x-python",
      "name": "python",
      "nbconvert_exporter": "python",
      "pygments_lexer": "ipython3",
      "version": "3.8.12"
    }
  },
  "nbformat": 4,
  "nbformat_minor": 0
}